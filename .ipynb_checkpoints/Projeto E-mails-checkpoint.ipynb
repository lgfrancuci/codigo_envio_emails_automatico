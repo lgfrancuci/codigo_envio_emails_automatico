{
 "cells": [
  {
   "cell_type": "markdown",
   "metadata": {
    "id": "pP_37DYWZ51Z"
   },
   "source": [
    "# Código para envio de e-mails automático\n",
    "\n",
    "### Descrição\n",
    "\n",
    "Todo dia, você, a equipe ou até mesmo um programa, gera um report diferente para cada área da empresa:\n",
    "- Financeiro\n",
    "- Logística\n",
    "- Manutenção\n",
    "- Marketing\n",
    "- Operações\n",
    "- Produção\n",
    "- Vendas\n",
    "\n",
    "Cada um desses reports deve ser enviado por e-mail para o Gerente de cada Área.\n",
    "\n",
    "Crie um programa que faça isso automaticamente. A relação de Gerentes (com seus respectivos e-mails) e áreas está no arquivo 'Enviar E-mails.xlsx'.\n"
   ]
  },
  {
   "cell_type": "code",
   "execution_count": 1,
   "metadata": {
    "id": "TblXQ5r5Z51d"
   },
   "outputs": [],
   "source": [
    "import win32com.client as win32\n",
    "outlook = win32.Dispatch('outlook.application')\n",
    "import pandas as pd\n",
    "\n",
    "gerentes_df = pd.read_excel('Enviar E-mails.xlsx')\n",
    "\n",
    "\n",
    "for i, email in enumerate(gerentes_df['E-mail']):\n",
    "    #Pegando da linha i (que vai dar pelo enumerate) e coluna 'Gerente'\n",
    "    gerente = gerentes_df.loc[i, 'Gerente']\n",
    "    area = gerentes_df.loc[i, 'Relatório']\n",
    "    \n",
    "    mail = outlook.CreateItem(0)\n",
    "    mail.To = email\n",
    "    mail.CC = 'seuemail@gmail.com'\n",
    "    mail.Subject = \"Relatório de {}\".format(area)\n",
    "    #Três aspas para escrever o texto em mais de uma linha\n",
    "    mail.Body = f'''\n",
    "    Prezado, {gerente}. Segue anexo do relatório de {area} atualizado.\n",
    "    Qualquer dúvida, estou à disposição.\n",
    "    Abraços,\n",
    "    \n",
    "    '''\n",
    "\n",
    "    # Anexos (pode colocar quantos quiser, mas preencha o seu caminho):\n",
    "    attachment  = r'C:\\Users\\Área de Trabalho\\#Python\\Projetos Consultoria\\Projeto E-mails\\{}.xlsx'.format(area)\n",
    "    mail.Attachments.Add(attachment)\n",
    "\n",
    "    mail.Send()"
   ]
  }
 ],
 "metadata": {
  "colab": {
   "collapsed_sections": [],
   "name": "Desafio Python com Email 01.ipynb",
   "provenance": []
  },
  "kernelspec": {
   "display_name": "Python 3 (ipykernel)",
   "language": "python",
   "name": "python3"
  },
  "language_info": {
   "codemirror_mode": {
    "name": "ipython",
    "version": 3
   },
   "file_extension": ".py",
   "mimetype": "text/x-python",
   "name": "python",
   "nbconvert_exporter": "python",
   "pygments_lexer": "ipython3",
   "version": "3.9.7"
  }
 },
 "nbformat": 4,
 "nbformat_minor": 1
}
